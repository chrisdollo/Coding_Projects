{
 "cells": [
  {
   "cell_type": "code",
   "execution_count": 11,
   "id": "01329711",
   "metadata": {},
   "outputs": [],
   "source": [
    "# used to import text files or .csv files into python\n",
    "import pandas as pd\n",
    "\n",
    "import numpy\n",
    "\n",
    "# tensorflow can be used to create Neural Networks\n",
    "import tensorflow as tf\n",
    "from tensorflow.keras import Sequential\n",
    "from tensorflow.keras.layers import Dense\n",
    "from tensorflow.keras.losses import SparseCategoricalCrossentropy"
   ]
  },
  {
   "cell_type": "code",
   "execution_count": 47,
   "id": "950aba12",
   "metadata": {},
   "outputs": [
    {
     "name": "stdout",
     "output_type": "stream",
     "text": [
      "[  0   0   0   0   0   0   0   0   0   0   0   0   0   0   0   0   0   0\n",
      "   0   0   0   0   0   0   0   0   0   0   0   0   0   0   0   0   0   0\n",
      "   0   0   0   0   0   0   0   0   0   0   0   0   0   0   0   0   0   0\n",
      "   0   0   0   0   0   0   0   0   0   0   0   0   0   0   0   0   0   0\n",
      "   0   0   0   0   0   0   0   0   0   0   0   0   0   0   0   0   0   0\n",
      "   0   0   0   0   0   0   0   0   0   0   0   0   0   0   0   0   0   0\n",
      "   0   0   0   0   0   0   0   0   0   0   0   0   0   0   0  18  30 137\n",
      " 137 192  86  72   1   0   0   0   0   0   0   0   0   0   0   0   0   0\n",
      "   0   0   0   0   0  13  86 250 254 254 254 254 217 246 151  32   0   0\n",
      "   0   0   0   0   0   0   0   0   0   0   0   0   0   0  16 179 254 254\n",
      " 254 254 254 254 254 254 254 231  54  15   0   0   0   0   0   0   0   0\n",
      "   0   0   0   0   0   0  72 254 254 254 254 254 254 254 254 254 254 254\n",
      " 254 104   0   0   0   0   0   0   0   0   0   0   0   0   0  61 191 254\n",
      " 254 254 254 254 109  83 199 254 254 254 254 243  85   0   0   0   0   0\n",
      "   0   0   0   0   0   0   0 172 254 254 254 202 147 147  45   0  11  29\n",
      " 200 254 254 254 171   0   0   0   0   0   0   0   0   0   0   0   1 174\n",
      " 254 254  89  67   0   0   0   0   0   0 128 252 254 254 212  76   0   0\n",
      "   0   0   0   0   0   0   0   0  47 254 254 254  29   0   0   0   0   0\n",
      "   0   0   0  83 254 254 254 153   0   0   0   0   0   0   0   0   0   0\n",
      "  80 254 254 240  24   0   0   0   0   0   0   0   0  25 240 254 254 153\n",
      "   0   0   0   0   0   0   0   0   0   0  64 254 254 186   7   0   0   0\n",
      "   0   0   0   0   0   0 166 254 254 224  12   0   0   0   0   0   0   0\n",
      "   0  14 232 254 254 254  29   0   0   0   0   0   0   0   0   0  75 254\n",
      " 254 254  17   0   0   0   0   0   0   0   0  18 254 254 254 254  29   0\n",
      "   0   0   0   0   0   0   0   0  48 254 254 254  17   0   0   0   0   0\n",
      "   0   0   0   2 163 254 254 254  29   0   0   0   0   0   0   0   0   0\n",
      "  48 254 254 254  17   0   0   0   0   0   0   0   0   0  94 254 254 254\n",
      " 200  12   0   0   0   0   0   0   0  16 209 254 254 150   1   0   0   0\n",
      "   0   0   0   0   0   0  15 206 254 254 254 202  66   0   0   0   0   0\n",
      "  21 161 254 254 245  31   0   0   0   0   0   0   0   0   0   0   0  60\n",
      " 212 254 254 254 194  48  48  34  41  48 209 254 254 254 171   0   0   0\n",
      "   0   0   0   0   0   0   0   0   0   0  86 243 254 254 254 254 254 233\n",
      " 243 254 254 254 254 254  86   0   0   0   0   0   0   0   0   0   0   0\n",
      "   0   0   0 114 254 254 254 254 254 254 254 254 254 254 239  86  11   0\n",
      "   0   0   0   0   0   0   0   0   0   0   0   0   0  13 182 254 254 254\n",
      " 254 254 254 254 254 243  70   0   0   0   0   0   0   0   0   0   0   0\n",
      "   0   0   0   0   0   0   8  76 146 254 255 254 255 146  19  15   0   0\n",
      "   0   0   0   0   0   0   0   0   0   0   0   0   0   0   0   0   0   0\n",
      "   0   0   0   0   0   0   0   0   0   0   0   0   0   0   0   0   0   0\n",
      "   0   0   0   0   0   0   0   0   0   0   0   0   0   0   0   0   0   0\n",
      "   0   0   0   0   0   0   0   0   0   0   0   0   0   0   0   0   0   0\n",
      "   0   0   0   0   0   0   0   0   0   0   0   0   0   0   0   0   0   0\n",
      "   0   0   0   0   0   0   0   0   0   0   0   0   0   0   0   0   0   0\n",
      "   0   0   0   0   0   0   0   0   0   0   0]\n"
     ]
    }
   ],
   "source": [
    "path_to_file = \"/Users/chrisdollo/Desktop/Coding_Projects/digit-recognizer/train.csv\"\n",
    "\n",
    "# read.csv is a function from the panda library that reads in your data\n",
    "# it takes as argument the path to your file\n",
    "training_data = pd.read_csv(path_to_file)\n",
    "\n",
    "\n",
    "# .head() prints the first five lines of a dataset\n",
    "#print(data.head())\n",
    "\n",
    "# .shape gives the shape of thedata set\n",
    "# print(data.shape)\n",
    "\n",
    "# training_data = training_data.to_numpy()\n",
    "\n",
    "Y = training_data[:, 1]\n",
    "X = training_data[:, 1:]\n",
    "\n",
    "# print(X)\n",
    "# print(X.shape)\n",
    "\n",
    "print(training_data[1,:])\n",
    "\n",
    "\n",
    "\n"
   ]
  },
  {
   "cell_type": "code",
   "execution_count": 13,
   "id": "557d4237",
   "metadata": {},
   "outputs": [],
   "source": [
    "# create the neural network\n",
    "\n",
    "model = Sequential ([\n",
    "    Dense(units = 25, activation = 'relu'),\n",
    "    Dense(units = 15, activation = 'relu'),\n",
    "    Dense(units = 10, activation = 'linear')\n",
    "])\n",
    "\n",
    "model.compile(loss=SparseCategoricalCrossentropy(from_logits = True))\n",
    "\n",
    "model.fit()\n"
   ]
  },
  {
   "cell_type": "code",
   "execution_count": null,
   "id": "8ad4ae5f",
   "metadata": {},
   "outputs": [],
   "source": []
  }
 ],
 "metadata": {
  "kernelspec": {
   "display_name": "Python 3 (ipykernel)",
   "language": "python",
   "name": "python3"
  },
  "language_info": {
   "codemirror_mode": {
    "name": "ipython",
    "version": 3
   },
   "file_extension": ".py",
   "mimetype": "text/x-python",
   "name": "python",
   "nbconvert_exporter": "python",
   "pygments_lexer": "ipython3",
   "version": "3.11.5"
  }
 },
 "nbformat": 4,
 "nbformat_minor": 5
}
